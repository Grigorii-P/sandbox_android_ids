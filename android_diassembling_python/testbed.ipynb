{
 "cells": [
  {
   "cell_type": "code",
   "execution_count": 1,
   "metadata": {
    "collapsed": true
   },
   "outputs": [],
   "source": [
    "from androguard.misc import *\n",
    "from androguard.core.bytecodes.apk import APK\n",
    "from androguard.core.bytecodes.dvm import DalvikVMFormat\n",
    "from androguard.core.analysis.analysis import Analysis\n",
    "\n",
    "import time\n",
    "from lxml import etree"
   ]
  },
  {
   "cell_type": "code",
   "execution_count": 2,
   "metadata": {},
   "outputs": [
    {
     "name": "stdout",
     "output_type": "stream",
     "text": [
      " 0.96 minutes elapsed\n"
     ]
    }
   ],
   "source": [
    "app_name = 'ted.android.apk'\n",
    "start = time.time()\n",
    "# one row\n",
    "a, d, dx = AnalyzeAPK(app_name)\n",
    "# instead of:\n",
    "# a = APK('aptoide.apk')\n",
    "# d = dvm.DalvikVMFormat(a.get_dex())\n",
    "# dx = analysis.Analysis(d)\n",
    "end = time.time()\n",
    "print(' %.2f minutes elapsed' % ((end - start)/60))"
   ]
  },
  {
   "cell_type": "code",
   "execution_count": 3,
   "metadata": {},
   "outputs": [
    {
     "data": {
      "text/plain": [
       "[<androguard.core.bytecodes.dvm.DalvikVMFormat at 0x10d1d16a0>,\n",
       " <androguard.core.bytecodes.dvm.DalvikVMFormat at 0x10d1d1d30>]"
      ]
     },
     "execution_count": 3,
     "metadata": {},
     "output_type": "execute_result"
    }
   ],
   "source": [
    "d"
   ]
  },
  {
   "cell_type": "code",
   "execution_count": 7,
   "metadata": {
    "collapsed": true
   },
   "outputs": [],
   "source": [
    "methods_a = [method_name for method_name in dir(a)\n",
    " if callable(getattr(a, method_name))]\n",
    "methods_d = [method_name for method_name in dir(d[0])\n",
    " if callable(getattr(d[0], method_name))]\n",
    "methods_dx = [method_name for method_name in dir(dx)\n",
    " if callable(getattr(dx, method_name))]"
   ]
  },
  {
   "cell_type": "code",
   "execution_count": 9,
   "metadata": {
    "scrolled": false
   },
   "outputs": [],
   "source": [
    "# a.get_activities()"
   ]
  },
  {
   "cell_type": "code",
   "execution_count": 9,
   "metadata": {
    "collapsed": true,
    "scrolled": true
   },
   "outputs": [],
   "source": [
    "# d[0].get_class('Landroid/support/v4/content/WakefulBroadcastReceiver;').source()"
   ]
  },
  {
   "cell_type": "code",
   "execution_count": 4,
   "metadata": {},
   "outputs": [
    {
     "name": "stdout",
     "output_type": "stream",
     "text": [
      " 0.05 minutes elapsed\n"
     ]
    }
   ],
   "source": [
    "# apk is 19.2 Mb\n",
    "start = time.time()\n",
    "intentList = []\n",
    "for item in d:\n",
    "    z = item.get_strings()\n",
    "    for i in range(len(z)):\n",
    "        if z[i].startswith('android.intent.action.'):\n",
    "            intents = z[i]\n",
    "            intentList.append(intents)\n",
    "end = time.time()\n",
    "print(' %.2f minutes elapsed' % ((end - start)/60))\n",
    "\n",
    "intentList"
   ]
  },
  {
   "cell_type": "code",
   "execution_count": 6,
   "metadata": {
    "collapsed": true
   },
   "outputs": [],
   "source": [
    "permList = a.get_permissions()\n",
    "permList"
   ]
  },
  {
   "cell_type": "markdown",
   "metadata": {},
   "source": [
    "### в тексте 'Detecting mobile malware threats to homeland security through static analysis' встречаются и другие вредные API помимо тех, что указаны в таблице (1), посмотри табл. 6"
   ]
  },
  {
   "cell_type": "code",
   "execution_count": 8,
   "metadata": {},
   "outputs": [
    {
     "data": {
      "text/plain": [
       "[]"
      ]
     },
     "execution_count": 8,
     "metadata": {},
     "output_type": "execute_result"
    }
   ],
   "source": [
    "APIsList = []\n",
    "APIs = ['getLine1Number',\n",
    "        'getSimSerialNumber',\n",
    "        'getSubscriberId',\n",
    "        'getDiviceId',\n",
    "        'getNETWORKCountryIso',\n",
    "        'getLastKnownLocation',\n",
    "        'getLatitude',\n",
    "        'getLogitude',\n",
    "        'Socket',\n",
    "        'openConnection',\n",
    "        'getOutputStream',\n",
    "        'getInputStream',\n",
    "        'URI.openStream',\n",
    "        'sendTextMessage',\n",
    "        'sendDataMessage',\n",
    "        'getPackageManager',\n",
    "        'installPackage',\n",
    "        'getContentResolver().delete',\n",
    "        'getAssets']\n",
    "for item in d:\n",
    "    z = item.get_strings()\n",
    "    for i in range(len(z)):\n",
    "        for j in range(len(APIs)):\n",
    "            if APIs[j] == z[i]:\n",
    "                APIsList.append(APIs[j])\n",
    "APIsList"
   ]
  },
  {
   "cell_type": "markdown",
   "metadata": {},
   "source": [
    "### надо бы добавить пробелы в конце команд"
   ]
  },
  {
   "cell_type": "code",
   "execution_count": null,
   "metadata": {
    "collapsed": true
   },
   "outputs": [],
   "source": [
    "commands = ['chmod', \n",
    "            'insmod',\n",
    "            'su',\n",
    "            'mount',\n",
    "            'sh',\n",
    "            'chown',\n",
    "            'killall',\n",
    "            'reboot',\n",
    "            'hosts',\n",
    "            'getprop',\n",
    "            'mkdir',\n",
    "            'ln',\n",
    "            'ps']"
   ]
  },
  {
   "cell_type": "code",
   "execution_count": 19,
   "metadata": {},
   "outputs": [
    {
     "ename": "AttributeError",
     "evalue": "'Analysis' object has no attribute 'tainted_packages'",
     "output_type": "error",
     "traceback": [
      "\u001b[0;31m---------------------------------------------------------------------------\u001b[0m",
      "\u001b[0;31mAttributeError\u001b[0m                            Traceback (most recent call last)",
      "\u001b[0;32m<ipython-input-19-b4da208a09c6>\u001b[0m in \u001b[0;36m<module>\u001b[0;34m()\u001b[0m\n\u001b[0;32m----> 1\u001b[0;31m \u001b[0mgetIN\u001b[0m \u001b[0;34m=\u001b[0m \u001b[0mdx\u001b[0m\u001b[0;34m.\u001b[0m\u001b[0mtainted_packages\u001b[0m\u001b[0;34m.\u001b[0m\u001b[0msearch_methods\u001b[0m\u001b[0;34m(\u001b[0m\u001b[0;34m\"Ljavax/crypto/Cipher\"\u001b[0m\u001b[0;34m,\u001b[0m\u001b[0;34m\"getInstance\"\u001b[0m\u001b[0;34m,\u001b[0m\u001b[0;34m\".\"\u001b[0m\u001b[0;34m)\u001b[0m\u001b[0;34m\u001b[0m\u001b[0m\n\u001b[0m",
      "\u001b[0;31mAttributeError\u001b[0m: 'Analysis' object has no attribute 'tainted_packages'"
     ]
    }
   ],
   "source": [
    "getIN = dx.tainted_packages.search_methods(\"Ljavax/crypto/Cipher\",\"getInstance\",\".\")"
   ]
  },
  {
   "cell_type": "code",
   "execution_count": 8,
   "metadata": {
    "collapsed": true,
    "scrolled": false
   },
   "outputs": [],
   "source": [
    "manifest = a.get_android_manifest_xml()\n",
    "root = manifest.getroottree()\n",
    "# with open('manifest.xml','w') as f:\n",
    "#     f.write(etree.tostring(manifest,pretty_print=True))\n",
    "manifest_str = etree.tostring(manifest,pretty_print=True).decode(\"utf-8\")"
   ]
  }
 ],
 "metadata": {
  "kernelspec": {
   "display_name": "Python 3",
   "language": "python",
   "name": "python3"
  },
  "language_info": {
   "codemirror_mode": {
    "name": "ipython",
    "version": 3
   },
   "file_extension": ".py",
   "mimetype": "text/x-python",
   "name": "python",
   "nbconvert_exporter": "python",
   "pygments_lexer": "ipython3",
   "version": "3.6.2"
  }
 },
 "nbformat": 4,
 "nbformat_minor": 2
}
