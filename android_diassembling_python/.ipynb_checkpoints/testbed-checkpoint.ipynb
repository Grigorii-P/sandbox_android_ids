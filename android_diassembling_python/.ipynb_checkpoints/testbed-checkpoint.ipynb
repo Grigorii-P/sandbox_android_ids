{
 "cells": [
  {
   "cell_type": "markdown",
   "metadata": {},
   "source": [
    "## разложить манифест в дерево\n",
    "## читать статью [32] - Detecting mobile malware threats to homeland security through static analysis"
   ]
  },
  {
   "cell_type": "code",
   "execution_count": 5,
   "metadata": {
    "collapsed": true
   },
   "outputs": [],
   "source": [
    "from androguard.misc import *\n",
    "from androguard.core.bytecodes.apk import APK\n",
    "from androguard.core.bytecodes.dvm import DalvikVMFormat\n",
    "from androguard.core.analysis.analysis import Analysis\n",
    "\n",
    "import time\n",
    "from lxml import etree"
   ]
  },
  {
   "cell_type": "code",
   "execution_count": 6,
   "metadata": {},
   "outputs": [
    {
     "name": "stdout",
     "output_type": "stream",
     "text": [
      " 1.35 minutes elapsed\n"
     ]
    }
   ],
   "source": [
    "app_name = 'mobilecreditcards.apk'\n",
    "start = time.time()\n",
    "# one row\n",
    "a, d, dx = AnalyzeAPK(app_name)\n",
    "# instead of:\n",
    "# a = APK('aptoide.apk')\n",
    "# d = dvm.DalvikVMFormat(a.get_dex())\n",
    "# dx = analysis.Analysis(d)\n",
    "end = time.time()\n",
    "print(' %.2f minutes elapsed' % ((end - start)/60))"
   ]
  },
  {
   "cell_type": "code",
   "execution_count": 7,
   "metadata": {},
   "outputs": [
    {
     "data": {
      "text/plain": [
       "[<androguard.core.bytecodes.dvm.DalvikVMFormat at 0x10d2ba6a0>,\n",
       " <androguard.core.bytecodes.dvm.DalvikVMFormat at 0x10d2ec518>]"
      ]
     },
     "execution_count": 7,
     "metadata": {},
     "output_type": "execute_result"
    }
   ],
   "source": [
    "d"
   ]
  },
  {
   "cell_type": "code",
   "execution_count": 4,
   "metadata": {},
   "outputs": [
    {
     "name": "stdout",
     "output_type": "stream",
     "text": [
      " 0.05 minutes elapsed\n"
     ]
    }
   ],
   "source": [
    "# apk is 19.2 Mb\n",
    "start = time.time()\n",
    "intentList = []\n",
    "for item in d:\n",
    "    z = item.get_strings()\n",
    "    for i in range(len(z)):\n",
    "        if z[i].startswith('android.intent.action.'):\n",
    "            intents = z[i]\n",
    "            intentList.append(intents)\n",
    "end = time.time()\n",
    "print(' %.2f minutes elapsed' % ((end - start)/60))"
   ]
  },
  {
   "cell_type": "code",
   "execution_count": 1,
   "metadata": {
    "scrolled": true
   },
   "outputs": [],
   "source": [
    "intentList"
   ]
  },
  {
   "cell_type": "code",
   "execution_count": 6,
   "metadata": {
    "collapsed": true
   },
   "outputs": [],
   "source": [
    "permList = a.get_permissions()"
   ]
  },
  {
   "cell_type": "code",
   "execution_count": 2,
   "metadata": {},
   "outputs": [],
   "source": [
    "permList"
   ]
  },
  {
   "cell_type": "code",
   "execution_count": 8,
   "metadata": {},
   "outputs": [
    {
     "data": {
      "text/plain": [
       "[]"
      ]
     },
     "execution_count": 8,
     "metadata": {},
     "output_type": "execute_result"
    }
   ],
   "source": [
    "APIsList = []\n",
    "APIs = ['getSimSerialNumber','getSubscriberId','getDiviceId']\n",
    "for item in d:\n",
    "    z = item.get_strings()\n",
    "    for i in range(len(z)):\n",
    "        for j in range(len(APIs)):\n",
    "            if APIs[j]==z[i]:\n",
    "                APIsList.append(APIs[j])\n",
    "APIsList"
   ]
  },
  {
   "cell_type": "code",
   "execution_count": 19,
   "metadata": {},
   "outputs": [
    {
     "ename": "AttributeError",
     "evalue": "'Analysis' object has no attribute 'tainted_packages'",
     "output_type": "error",
     "traceback": [
      "\u001b[0;31m---------------------------------------------------------------------------\u001b[0m",
      "\u001b[0;31mAttributeError\u001b[0m                            Traceback (most recent call last)",
      "\u001b[0;32m<ipython-input-19-b4da208a09c6>\u001b[0m in \u001b[0;36m<module>\u001b[0;34m()\u001b[0m\n\u001b[0;32m----> 1\u001b[0;31m \u001b[0mgetIN\u001b[0m \u001b[0;34m=\u001b[0m \u001b[0mdx\u001b[0m\u001b[0;34m.\u001b[0m\u001b[0mtainted_packages\u001b[0m\u001b[0;34m.\u001b[0m\u001b[0msearch_methods\u001b[0m\u001b[0;34m(\u001b[0m\u001b[0;34m\"Ljavax/crypto/Cipher\"\u001b[0m\u001b[0;34m,\u001b[0m\u001b[0;34m\"getInstance\"\u001b[0m\u001b[0;34m,\u001b[0m\u001b[0;34m\".\"\u001b[0m\u001b[0;34m)\u001b[0m\u001b[0;34m\u001b[0m\u001b[0m\n\u001b[0m",
      "\u001b[0;31mAttributeError\u001b[0m: 'Analysis' object has no attribute 'tainted_packages'"
     ]
    }
   ],
   "source": [
    "getIN = dx.tainted_packages.search_methods(\"Ljavax/crypto/Cipher\",\"getInstance\",\".\")"
   ]
  },
  {
   "cell_type": "code",
   "execution_count": 8,
   "metadata": {
    "scrolled": false
   },
   "outputs": [],
   "source": [
    "manifest = a.get_android_manifest_xml()\n",
    "root = manifest.getroottree()\n",
    "# with open('manifest.xml','w') as f:\n",
    "#     f.write(etree.tostring(manifest,pretty_print=True))\n",
    "manifest_str = etree.tostring(manifest,pretty_print=True).decode(\"utf-8\")"
   ]
  },
  {
   "cell_type": "code",
   "execution_count": null,
   "metadata": {
    "collapsed": true
   },
   "outputs": [],
   "source": [
    "# methods = [method_name for method_name in dir(object)\n",
    "#  if callable(getattr(object, method_name))]"
   ]
  },
  {
   "cell_type": "code",
   "execution_count": 27,
   "metadata": {
    "scrolled": true
   },
   "outputs": [],
   "source": [
    "print(etree.tostring(root, pretty_print=True))"
   ]
  },
  {
   "cell_type": "code",
   "execution_count": null,
   "metadata": {
    "collapsed": true
   },
   "outputs": [],
   "source": []
  }
 ],
 "metadata": {
  "kernelspec": {
   "display_name": "Python 3",
   "language": "python",
   "name": "python3"
  },
  "language_info": {
   "codemirror_mode": {
    "name": "ipython",
    "version": 3
   },
   "file_extension": ".py",
   "mimetype": "text/x-python",
   "name": "python",
   "nbconvert_exporter": "python",
   "pygments_lexer": "ipython3",
   "version": "3.6.2"
  }
 },
 "nbformat": 4,
 "nbformat_minor": 2
}
