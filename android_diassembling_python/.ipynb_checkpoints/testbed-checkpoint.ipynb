{
 "cells": [
  {
   "cell_type": "markdown",
   "metadata": {},
   "source": [
    "## разложить манифест в дерево\n",
    "## читать статью [32] - Detecting mobile malware threats to homeland security through static analysis"
   ]
  },
  {
   "cell_type": "code",
   "execution_count": null,
   "metadata": {
    "collapsed": true
   },
   "outputs": [],
   "source": []
  },
  {
   "cell_type": "code",
   "execution_count": 1,
   "metadata": {
    "collapsed": true
   },
   "outputs": [],
   "source": [
    "import androguard\n",
    "from androguard.misc import *\n",
    "from androguard.core.bytecodes.apk import APK\n",
    "from androguard.core.bytecodes.dvm import DalvikVMFormat\n",
    "from androguard.core.analysis.analysis import Analysis\n",
    "\n",
    "import time\n",
    "from lxml import etree"
   ]
  },
  {
   "cell_type": "code",
   "execution_count": 2,
   "metadata": {},
   "outputs": [
    {
     "name": "stdout",
     "output_type": "stream",
     "text": [
      " 0.93 minutes elapsed\n"
     ]
    }
   ],
   "source": [
    "app_name = 'ted.android.apk'\n",
    "start = time.time()\n",
    "# one row\n",
    "a, d, dx = AnalyzeAPK(app_name)\n",
    "# instead of:\n",
    "# a = APK('aptoide.apk')\n",
    "# d = dvm.DalvikVMFormat(a.get_dex())\n",
    "# dx = analysis.Analysis(d)\n",
    "\n",
    "end = time.time()\n",
    "print(' %.2f minutes elapsed' % ((end - start)/60))"
   ]
  },
  {
   "cell_type": "code",
   "execution_count": 3,
   "metadata": {},
   "outputs": [
    {
     "data": {
      "text/plain": [
       "[<androguard.core.bytecodes.dvm.DalvikVMFormat at 0x11280c630>,\n",
       " <androguard.core.bytecodes.dvm.DalvikVMFormat at 0x11280ccc0>]"
      ]
     },
     "execution_count": 3,
     "metadata": {},
     "output_type": "execute_result"
    }
   ],
   "source": [
    "d"
   ]
  },
  {
   "cell_type": "code",
   "execution_count": 4,
   "metadata": {},
   "outputs": [
    {
     "name": "stdout",
     "output_type": "stream",
     "text": [
      " 0.05 minutes elapsed\n"
     ]
    }
   ],
   "source": [
    "# apk is 19.2 Mb\n",
    "start = time.time()\n",
    "intentList = []\n",
    "for item in d:\n",
    "    z = item.get_strings()\n",
    "    for i in range(len(z)):\n",
    "        if z[i].startswith('android.intent.action.'):\n",
    "            intents = z[i]\n",
    "            intentList.append(intents)\n",
    "end = time.time()\n",
    "print(' %.2f minutes elapsed' % ((end - start)/60))"
   ]
  },
  {
   "cell_type": "code",
   "execution_count": 5,
   "metadata": {},
   "outputs": [
    {
     "data": {
      "text/plain": [
       "['android.intent.action.BATTERY_CHANGED',\n",
       " 'android.intent.action.CLOSE_SYSTEM_DIALOGS',\n",
       " 'android.intent.action.CONFIGURATION_CHANGED',\n",
       " 'android.intent.action.DIAL',\n",
       " 'android.intent.action.EDIT',\n",
       " 'android.intent.action.INSERT',\n",
       " 'android.intent.action.MAIN',\n",
       " 'android.intent.action.MEDIA_BUTTON',\n",
       " 'android.intent.action.MEDIA_MOUNTED',\n",
       " 'android.intent.action.PACKAGE_ADDED',\n",
       " 'android.intent.action.PACKAGE_CHANGED',\n",
       " 'android.intent.action.PACKAGE_REMOVED',\n",
       " 'android.intent.action.PACKAGE_REPLACED',\n",
       " 'android.intent.action.PACKAGE_RESTARTED',\n",
       " 'android.intent.action.PROCESS_TEXT',\n",
       " 'android.intent.action.SCREEN_OFF',\n",
       " 'android.intent.action.SCREEN_ON',\n",
       " 'android.intent.action.SEARCH',\n",
       " 'android.intent.action.SEND',\n",
       " 'android.intent.action.SENDTO',\n",
       " 'android.intent.action.SEND_MULTIPLE',\n",
       " 'android.intent.action.TIMEZONE_CHANGED',\n",
       " 'android.intent.action.TIME_SET',\n",
       " 'android.intent.action.TIME_TICK',\n",
       " 'android.intent.action.USER_PRESENT',\n",
       " 'android.intent.action.VIEW',\n",
       " 'android.intent.action.AIRPLANE_MODE',\n",
       " 'android.intent.action.MAIN',\n",
       " 'android.intent.action.SEND',\n",
       " 'android.intent.action.VIEW']"
      ]
     },
     "execution_count": 5,
     "metadata": {},
     "output_type": "execute_result"
    }
   ],
   "source": [
    "intentList"
   ]
  },
  {
   "cell_type": "code",
   "execution_count": 6,
   "metadata": {
    "collapsed": true
   },
   "outputs": [],
   "source": [
    "permList = a.get_permissions()"
   ]
  },
  {
   "cell_type": "code",
   "execution_count": 7,
   "metadata": {},
   "outputs": [
    {
     "data": {
      "text/plain": [
       "['android.permission.INTERNET',\n",
       " 'android.permission.ACCESS_WIFI_STATE',\n",
       " 'android.permission.ACCESS_NETWORK_STATE',\n",
       " 'android.permission.WRITE_EXTERNAL_STORAGE',\n",
       " 'android.permission.READ_EXTERNAL_STORAGE',\n",
       " 'android.permission.WAKE_LOCK',\n",
       " 'com.google.android.c2dm.permission.RECEIVE',\n",
       " 'android.permission.MODIFY_AUDIO_SETTINGS',\n",
       " 'com.ted.android.permission.C2D_MESSAGE']"
      ]
     },
     "execution_count": 7,
     "metadata": {},
     "output_type": "execute_result"
    }
   ],
   "source": [
    "permList"
   ]
  },
  {
   "cell_type": "code",
   "execution_count": 7,
   "metadata": {},
   "outputs": [
    {
     "name": "stdout",
     "output_type": "stream",
     "text": [
      " 0.04 minutes elapsed\n"
     ]
    }
   ],
   "source": [
    "# apk is 19.2 Mb\n",
    "start = time.time()\n",
    "l = []\n",
    "for item in d:\n",
    "    z = item.get_strings()\n",
    "    l.append(z)\n",
    "end = time.time()\n",
    "print(' %.2f minutes elapsed' % ((end - start)/60))"
   ]
  },
  {
   "cell_type": "code",
   "execution_count": 14,
   "metadata": {
    "collapsed": true,
    "scrolled": true
   },
   "outputs": [],
   "source": [
    "# thefile = open('strings.txt', 'w')\n",
    "# for item in l:\n",
    "#     thefile.write(\"%s\\n\" % (item))"
   ]
  },
  {
   "cell_type": "code",
   "execution_count": 8,
   "metadata": {},
   "outputs": [
    {
     "data": {
      "text/plain": [
       "[]"
      ]
     },
     "execution_count": 8,
     "metadata": {},
     "output_type": "execute_result"
    }
   ],
   "source": [
    "APIsList = []\n",
    "APIs = ['getSimSerialNumber','getSubscriberId','getDiviceId']\n",
    "for item in d:\n",
    "    z = item.get_strings()\n",
    "    for i in range(len(z)):\n",
    "        for j in range(len(APIs)):\n",
    "            if APIs[j]==z[i]:\n",
    "                APIsList.append(APIs[j])\n",
    "APIsList"
   ]
  },
  {
   "cell_type": "code",
   "execution_count": 19,
   "metadata": {},
   "outputs": [
    {
     "ename": "AttributeError",
     "evalue": "'Analysis' object has no attribute 'tainted_packages'",
     "output_type": "error",
     "traceback": [
      "\u001b[0;31m---------------------------------------------------------------------------\u001b[0m",
      "\u001b[0;31mAttributeError\u001b[0m                            Traceback (most recent call last)",
      "\u001b[0;32m<ipython-input-19-b4da208a09c6>\u001b[0m in \u001b[0;36m<module>\u001b[0;34m()\u001b[0m\n\u001b[0;32m----> 1\u001b[0;31m \u001b[0mgetIN\u001b[0m \u001b[0;34m=\u001b[0m \u001b[0mdx\u001b[0m\u001b[0;34m.\u001b[0m\u001b[0mtainted_packages\u001b[0m\u001b[0;34m.\u001b[0m\u001b[0msearch_methods\u001b[0m\u001b[0;34m(\u001b[0m\u001b[0;34m\"Ljavax/crypto/Cipher\"\u001b[0m\u001b[0;34m,\u001b[0m\u001b[0;34m\"getInstance\"\u001b[0m\u001b[0;34m,\u001b[0m\u001b[0;34m\".\"\u001b[0m\u001b[0;34m)\u001b[0m\u001b[0;34m\u001b[0m\u001b[0m\n\u001b[0m",
      "\u001b[0;31mAttributeError\u001b[0m: 'Analysis' object has no attribute 'tainted_packages'"
     ]
    }
   ],
   "source": [
    "getIN = dx.tainted_packages.search_methods(\"Ljavax/crypto/Cipher\",\"getInstance\",\".\")"
   ]
  },
  {
   "cell_type": "code",
   "execution_count": 7,
   "metadata": {
    "collapsed": true,
    "scrolled": false
   },
   "outputs": [],
   "source": [
    "manifest = a.get_android_manifest_xml()\n",
    "# with open('manifest.xml','w') as f:\n",
    "#     f.write(etree.tostring(manifest,pretty_print=True))\n",
    "manifest_str = etree.tostring(manifest,pretty_print=True).decode(\"utf-8\")\n"
   ]
  },
  {
   "cell_type": "code",
   "execution_count": 15,
   "metadata": {
    "collapsed": true
   },
   "outputs": [],
   "source": [
    "perm_manifest = []\n",
    "for item in permList:\n",
    "    if item in manifest_str:\n",
    "        perm_manifest.append(item)\n",
    "perm_manifest"
   ]
  },
  {
   "cell_type": "code",
   "execution_count": 14,
   "metadata": {
    "collapsed": true,
    "scrolled": false
   },
   "outputs": [],
   "source": [
    "manifest_str"
   ]
  },
  {
   "cell_type": "code",
   "execution_count": null,
   "metadata": {
    "collapsed": true
   },
   "outputs": [],
   "source": []
  }
 ],
 "metadata": {
  "kernelspec": {
   "display_name": "Python 3",
   "language": "python",
   "name": "python3"
  },
  "language_info": {
   "codemirror_mode": {
    "name": "ipython",
    "version": 3
   },
   "file_extension": ".py",
   "mimetype": "text/x-python",
   "name": "python",
   "nbconvert_exporter": "python",
   "pygments_lexer": "ipython3",
   "version": "3.6.2"
  }
 },
 "nbformat": 4,
 "nbformat_minor": 2
}
